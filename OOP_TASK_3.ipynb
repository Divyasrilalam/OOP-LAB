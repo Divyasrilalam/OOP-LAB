{
  "nbformat": 4,
  "nbformat_minor": 0,
  "metadata": {
    "colab": {
      "name": "OOP-TASK 3",
      "provenance": [],
      "collapsed_sections": [],
      "authorship_tag": "ABX9TyMBluUTmaevtNiXWydJ8vSR",
      "include_colab_link": true
    },
    "kernelspec": {
      "name": "python3",
      "display_name": "Python 3"
    },
    "language_info": {
      "name": "python"
    }
  },
  "cells": [
    {
      "cell_type": "markdown",
      "metadata": {
        "id": "view-in-github",
        "colab_type": "text"
      },
      "source": [
        "<a href=\"https://colab.research.google.com/github/Divyasrilalam/OOP-LAB/blob/main/OOP_TASK_3.ipynb\" target=\"_parent\"><img src=\"https://colab.research.google.com/assets/colab-badge.svg\" alt=\"Open In Colab\"/></a>"
      ]
    },
    {
      "cell_type": "code",
      "metadata": {
        "colab": {
          "base_uri": "https://localhost:8080/"
        },
        "id": "beEMFTo58g59",
        "outputId": "e6d8300e-7eac-4714-8243-023ec0f8c3da"
      },
      "source": [
        "class student():\n",
        "  def __init__(self,name,reg_no,age,gender,sem,branch):\n",
        "    self.name=name\n",
        "    self.reg_no=reg_no\n",
        "    self.age=age\n",
        "    self.gender=gender\n",
        "    self.sem=sem\n",
        "    self.branch=branch\n",
        "  def details(self):\n",
        "    print('Name:',self.name,'Reg No:',self.reg_no,'Age:',self.age,'Gender:',self.gender,'Sem:',self.sem,'Branch:',self.branch)\n",
        "S=student('Sarayu','637478','18','Female','3','CSE')\n",
        "S.details()\n",
        "\n",
        "class result(student):\n",
        "  def __init__(self,totalmarks,percent,grade):\n",
        "    self.totalmarks=totalmarks\n",
        "    self.percent=percent\n",
        "    self.grade=grade\n",
        "\n",
        "  def display(self):\n",
        "    print('Totalmarks:',self.totalmarks,'Percentage:',self.percent,'Grade:',self.grade)  \n",
        "    \n",
        "S=result('478','97.6','9.7')\n",
        "S.display()\n",
        "S=student('Sarayu','637478','18','Female','3','CSE')\n",
        "S.details"
      ],
      "execution_count": 16,
      "outputs": [
        {
          "output_type": "stream",
          "name": "stdout",
          "text": [
            "Name: Sarayu Reg No: 637478 Age: 18 Gender: Female Sem: 3 Branch: CSE\n",
            "Totalmarks: 478 Percentage: 97.6 Grade: 9.7\n"
          ]
        },
        {
          "output_type": "execute_result",
          "data": {
            "text/plain": [
              "<bound method student.details of <__main__.student object at 0x7fa22a699a90>>"
            ]
          },
          "metadata": {},
          "execution_count": 16
        }
      ]
    },
    {
      "cell_type": "code",
      "metadata": {
        "id": "5Le-QFQfCV-Y"
      },
      "source": [
        "class PDFs():\n",
        "  def data(self):\n",
        "    self.created=input(\"Enter who created:\")\n",
        "    self.description=input(\"Enter the description:\")\n",
        "    self.size=int(input(\"Enter the file size:\"))\n",
        "  def getData(self):\n",
        "    print(f\"\\nCreated : {self.created} \\nDescription : {self.description} \\nSize : {self.size}\\n\")\n",
        "    return self.created,self.description,self.size\n",
        "\n",
        "  def checksize(self):\n",
        "    if self.size<400:\n",
        "     print(\"Atach file\")\n",
        "    else:\n",
        "      print(\"Check the file size\")\n",
        "\n",
        "class pictures(PDFs):\n",
        "  def pdata(self):\n",
        "    self.created=input(\"Enter who created:\")\n",
        "    self.description=input(\"Enter the description:\")\n",
        "    self.dimensions=int(input(\"Enter the image dimensions:\"))\n",
        "    self.size=int(input(\"Enter the file size:\"))\n",
        "  def getData(self):\n",
        "    print(f\"\\nCreated : {self.created} \\nDescription : {self.description} \\nDimensions : {self.dimensions} \\nSize : {self.size}\\n\")\n",
        "    return self.created,self.description,self.dimensions,self.size\n",
        "\n",
        " def checkdimensions(self):\n",
        "    if self.dimensions<550:\n",
        "     print(\"Atach file\")\n",
        "    else:\n",
        "      print(\"Too high of dimensions\")\n"
      ],
      "execution_count": null,
      "outputs": []
    },
    {
      "cell_type": "code",
      "metadata": {
        "id": "G-zyusPQNfJe"
      },
      "source": [
        "class PDFs():\n",
        "  def __init__(self,created,description,size):\n",
        "    self.created=created\n",
        "    self.description=description\n",
        "    self.size=size\n",
        "\n",
        "  def display(self):\n",
        "    print('Who created:',self.created)\n",
        "    print('Description:',self.description)\n",
        "    print('Size of file(in KB):',self.size)\n",
        "\n",
        "  def checksize(self):\n",
        "    if self.size>400:\n",
        "      print('Size beyond threshold')\n",
        "    else:\n",
        "      print('Size is the threshold')\n",
        "\n",
        "class Pictures(PDFs):\n",
        "  def __init__(self,created,description,size,dimension):\n",
        "    super()._init_(created,description,size)\n",
        "    self.dimension=dimension\n",
        "\n",
        "  def displayimage(self):\n",
        "    self.displayInfo()\n",
        "    print('Dimensions (in pixels):', self.dimension)\n",
        "\n",
        "  def checkdimension(self):\n",
        "    if self.dimension>500:\n",
        "      print('high dimension')\n",
        "    else:\n",
        "      print('sufficient dimension')\n",
        "      \n",
        "P=PDFs('forge','Studentdeatils','200')\n",
        "P.display()\n",
        "P.checksize()\n",
        "print()\n",
        "I=Pictures('adobe','nature',320,550)\n",
        "I.displayimage()\n",
        "I.checkdimension()"
      ],
      "execution_count": null,
      "outputs": []
    },
    {
      "cell_type": "code",
      "metadata": {
        "id": "KXZpF3kvJ-hn"
      },
      "source": [
        "class Vehicle:\n",
        "    def __init__(self,name,mileage,capacity):\n",
        "        self.name=name\n",
        "        self.mileage=mileage\n",
        "        self.capacity=capacity\n",
        "\n",
        "    def capc(self):\n",
        "        return self.capacity*100\n",
        "\n",
        "class Bus(Vehicle):\n",
        "    def __init__(self,name,mileage,capacity=50):\n",
        "      Vehicle._init_(self, name, mileage, capacity)\n",
        "        self.finalamount=Vehicle.capc(self)*1.1\n",
        "\n",
        "    def busfare(self):\n",
        "        print(f\"Totalfare:{self.finalAmount}\")\n",
        "\n",
        "V=Vehicle(\"Suzuki\",'20','7')\n",
        "print(f\"Vehicle fare:{V.capc()}\")\n",
        "B=Bus(\"Orange\",'9','45')\n",
        "b.busfare()"
      ],
      "execution_count": null,
      "outputs": []
    }
  ]
}