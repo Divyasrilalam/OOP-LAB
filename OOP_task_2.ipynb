{
  "nbformat": 4,
  "nbformat_minor": 0,
  "metadata": {
    "colab": {
      "name": "OOP-task 2",
      "provenance": [],
      "mount_file_id": "13AO-zzWNAPFwh0Yd1ghRjauSRBdiITVV",
      "authorship_tag": "ABX9TyNSpR5l96UfiRSBoFgKza5H",
      "include_colab_link": true
    },
    "kernelspec": {
      "display_name": "Python 3",
      "name": "python3"
    },
    "language_info": {
      "name": "python"
    }
  },
  "cells": [
    {
      "cell_type": "markdown",
      "metadata": {
        "id": "view-in-github",
        "colab_type": "text"
      },
      "source": [
        "<a href=\"https://colab.research.google.com/github/Divyasrilalam/OOP-LAB/blob/main/OOP_task_2.ipynb\" target=\"_parent\"><img src=\"https://colab.research.google.com/assets/colab-badge.svg\" alt=\"Open In Colab\"/></a>"
      ]
    },
    {
      "cell_type": "code",
      "metadata": {
        "colab": {
          "base_uri": "https://localhost:8080/"
        },
        "id": "nA8_w9y5WWFJ",
        "outputId": "9376fc2b-77e9-4910-fc12-1c2796b27465"
      },
      "source": [
        "class circle():\n",
        "  def __init__(self,r):\n",
        "    self.radius=r\n",
        "  def area(self):\n",
        "    return 3.14*self.radius**2\n",
        "  def perimeter(self):\n",
        "    return self.radius*2*3.14\n",
        "newcircle=circle(6)\n",
        "print('radius=6')\n",
        "print('area:',newcircle.area())\n",
        "print('perimeter:',newcircle.perimeter())\n"
      ],
      "execution_count": null,
      "outputs": [
        {
          "name": "stdout",
          "output_type": "stream",
          "text": [
            "radius=6\n",
            "area: 113.04\n",
            "perimeter: 37.68\n"
          ]
        }
      ]
    },
    {
      "cell_type": "code",
      "metadata": {
        "colab": {
          "base_uri": "https://localhost:8080/"
        },
        "id": "MtT-NJmga_kc",
        "outputId": "634960ae-45c1-4acb-da2b-f83030abd9f4"
      },
      "source": [
        "class employee:\n",
        "  def __init__(self,name,emp_ID,branch,salary):\n",
        "    self.name=name\n",
        "    self.emp_ID=emp_ID\n",
        "    self.branch=branch\n",
        "    self.salary=salary\n",
        "  def details(self):\n",
        "    print('Name:',self.name,'Emp ID:',self.emp_ID,'Branch:',self.branch,'Salary:',self.salary)\n",
        "E1=employee('Ramesh','IIITD200450','CSE','100000')\n",
        "E2=employee('Srikar','IIITD200398','DSAI','102000')\n",
        "E3=employee('Harikanth','IIITD200452','CSE','102000')\n",
        "E4=employee('Praveen','IIITD200400','ECE','100000')\n",
        "E5=employee('Arman','IIITD200440','DSAI','100000')\n",
        "E1.details()\n",
        "E2.details()\n",
        "E3.details()\n",
        "E4.details()\n",
        "E5.details()"
      ],
      "execution_count": null,
      "outputs": [
        {
          "name": "stdout",
          "output_type": "stream",
          "text": [
            "Name: Ramesh Emp ID: IIITD200450 Branch: CSE Salary: 100000\n",
            "Name: Srikar Emp ID: IIITD200398 Branch: DSAI Salary: 102000\n",
            "Name: Harikanth Emp ID: IIITD200452 Branch: CSE Salary: 102000\n",
            "Name: Praveen Emp ID: IIITD200400 Branch: ECE Salary: 100000\n",
            "Name: Arman Emp ID: IIITD200440 Branch: DSAI Salary: 100000\n"
          ]
        }
      ]
    },
    {
      "cell_type": "code",
      "metadata": {
        "id": "lqBkYKThsxvS"
      },
      "source": [
        "class bankaccount:\n",
        "  def __init__(self,account_holder_name,accountno,initialamount):\n",
        "    self.account_holder_name=account_holder_name\n",
        "    self.accountno=accountno\n",
        "    self.balance=initialamount\n",
        "  def details(self):\n",
        "    print('Name:',self.account_holder_name,'Account no:',self.accountno,'Amount:',self.balance)\n",
        "\n",
        "  def deposit(self):\n",
        "      amount=int(input(\"Enter amount to be Deposited:\"))\n",
        "      self.balance += amount\n",
        "        \n",
        "  def withdraw(self):\n",
        "      amount=int(input(\"Enter amount to be Withdrawn:\"))\n",
        "      if self.balance>=amount:\n",
        "          print(\"You Withdrew:\",amount)\n",
        "      else:\n",
        "          print(\"Insufficient balance\")\n",
        " \n",
        "  def checkbalance(self):\n",
        "      print(\"Remaining Balance=\",self.balance)\n",
        " \n",
        "\n",
        "M=bankaccount('Rakesh','6893462440','60000')\n",
        "M.details()\n",
        "M.deposit()\n",
        "M.withdraw()\n",
        "M.checkbalance()\n",
        "\n"
      ],
      "execution_count": null,
      "outputs": []
    },
    {
      "cell_type": "code",
      "metadata": {
        "id": "DyvoCbjHp3hi",
        "colab": {
          "base_uri": "https://localhost:8080/"
        },
        "outputId": "c348c345-0ec0-4e88-8c87-0ccde36c3b1b"
      },
      "source": [
        "class student:\n",
        "  def __init__(self,name,USN,mathsmarks,englishmarks,physicsmarks):\n",
        "    self.name=name\n",
        "    self.USN=USN\n",
        "    self.mathsmarks=mathsmarks\n",
        "    self.englishmarks=englishmarks\n",
        "    self.physicsmarks=physicsmarks\n",
        "  def details(self):\n",
        "    print('Name:',self.name,'Roll no:',self.USN,'Maths marks:',self.mathsmarks,'English marks:',self.englishmarks,'Physics marks:',self.physicsmarks)\n",
        "S1=student('Ram','20bcs0200','95','94','92')\n",
        "S1.details()\n"
      ],
      "execution_count": null,
      "outputs": [
        {
          "output_type": "stream",
          "name": "stdout",
          "text": [
            "Name: Ram Roll no: 20bcs0200 Maths marks: 95 English marks: 94 Physics marks: 92\n"
          ]
        }
      ]
    },
    {
      "cell_type": "code",
      "metadata": {
        "id": "nCpBOsIGpmhe"
      },
      "source": [
        "class patients:\n",
        "  def __init__(self,name,doa,symptoms,oxygen_level,dod):\n",
        "    self.name=name\n",
        "    self.doa=doa\n",
        "    self.symptoms=symptoms\n",
        "    self.oxygen_level=oxygen_level\n",
        "    self.dod=dod\n",
        "\n",
        "name = input(\"Enter the name of the patient:\")\n",
        "doa = input(\"Enter date of admission:\"\n",
        "symptoms = input(\"Enter all the symptoms:\").split(\" \")\n",
        "oxygen_level = int(input(\"Enter oxygen level of the patient:\"))\n",
        "dod = input(\"Enter date of discharge:\")\n",
        "\n",
        "P1=patient()\n",
        "P2=patient()\n",
        "P3=patient()\n",
        "P4=patient()\n",
        "P5=patient()\n",
        "P6=patient()\n",
        "P7=patient()\n",
        "P8=patient()\n",
        "\n",
        "def level(self):\n",
        "  if self.oxygen_level < 90:\n",
        "    print(\"Put on oxygen support\")\n",
        "  else:\n",
        "    print(\"Move to the general ward\")"
      ],
      "execution_count": null,
      "outputs": []
    },
    {
      "cell_type": "code",
      "metadata": {
        "colab": {
          "base_uri": "https://localhost:8080/"
        },
        "id": "9y8cMQh8raSi",
        "outputId": "1ce18d48-ebcb-4e5c-acd8-2d4d2e37c54a"
      },
      "source": [
        "class student:\n",
        "  def __init__(self,name,age,roll_no):\n",
        "    self.name=name\n",
        "    self.age=age\n",
        "    self.roll_no=roll_no\n",
        "  def __eq__(self,other):\n",
        "    return self.age==other.age\n",
        "  def details(self):\n",
        "    print('Name:',self.name,'Age:',self.age,'Roll_No:',self.roll_no)\n",
        "S1=student('Rahul','21','33')\n",
        "S2=student('Rohit','22','74')\n",
        "S1.details()\n",
        "S2.details()\n",
        "print(S1==S2)"
      ],
      "execution_count": null,
      "outputs": [
        {
          "name": "stdout",
          "output_type": "stream",
          "text": [
            "Name: Rahul Age: 21 Roll_No: 33\n",
            "Name: Rohit Age: 22 Roll_No: 74\n",
            "False\n"
          ]
        }
      ]
    },
    {
      "cell_type": "code",
      "metadata": {
        "colab": {
          "base_uri": "https://localhost:8080/"
        },
        "id": "guD1UeLvwht9",
        "outputId": "853e5561-6037-48e0-dbae-3195b6bb8b2b"
      },
      "source": [
        "class student:\n",
        "  def __init__(self,name,usn):\n",
        "    self.name=name\n",
        "    self.usn=usn\n",
        "  def details(self):\n",
        "    print('Name:',self.name,'USN:',self.usn)\n",
        "  @classmethod \n",
        "  def sem(cls):\n",
        "    return cls('3')\n",
        "  def institute(cls):\n",
        "    return cls('Dharwad')\n",
        "\n",
        "S=student('Mani','45')\n",
        "S.details()\n"
      ],
      "execution_count": null,
      "outputs": [
        {
          "output_type": "stream",
          "name": "stdout",
          "text": [
            "Name: Mani USN: 45\n"
          ]
        }
      ]
    },
    {
      "cell_type": "code",
      "metadata": {
        "colab": {
          "base_uri": "https://localhost:8080/"
        },
        "id": "GuBsTvMny4iO",
        "outputId": "42fd1c13-aaaa-4b1a-f1a7-90138de5a09d"
      },
      "source": [
        "class student:\n",
        "  def __init__(self,name,roll_no,sem):\n",
        "    self.name=name\n",
        "    self.roll_no=roll_no\n",
        "    self.sem=sem\n",
        "  def details(self):\n",
        "    print('Name:',self.name,'Roll no:',self.roll_no,'Sem:',self.sem)\n",
        "\n",
        "class laptop:\n",
        "  def __init__(self,cpu,ram,hard_disk):\n",
        "    self.cpu=cpu\n",
        "    self.ram=ram\n",
        "    self.hard_disk=hard_disk\n",
        "  def details(self):\n",
        "    print('Cpu:',self.cpu,'Ram:',self.ram,'Hard_disk:',self.hard_disk)\n",
        "\n",
        "S1=student('Riya','20','3')\n",
        "S1.details()\n",
        "\n",
        "L1=laptop('Intel_80386','16GB','Z7K500')\n",
        "L1.details()\n"
      ],
      "execution_count": null,
      "outputs": [
        {
          "name": "stdout",
          "output_type": "stream",
          "text": [
            "Name: Riya Roll no: 20 Sem: 3\n",
            "Cpu: Intel_80386 Ram: 16GB Hard_disk: Z7K500\n"
          ]
        }
      ]
    }
  ]
}