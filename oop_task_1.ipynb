{
  "nbformat": 4,
  "nbformat_minor": 0,
  "metadata": {
    "colab": {
      "name": "oop task 1",
      "provenance": [],
      "authorship_tag": "ABX9TyNEJDJhsMaNrvkZoAWXU1xE",
      "include_colab_link": true
    },
    "kernelspec": {
      "name": "python3",
      "display_name": "Python 3"
    },
    "language_info": {
      "name": "python"
    }
  },
  "cells": [
    {
      "cell_type": "markdown",
      "metadata": {
        "id": "view-in-github",
        "colab_type": "text"
      },
      "source": [
        "<a href=\"https://colab.research.google.com/github/Divyasrilalam/OOP-LAB/blob/main/oop_task_1.ipynb\" target=\"_parent\"><img src=\"https://colab.research.google.com/assets/colab-badge.svg\" alt=\"Open In Colab\"/></a>"
      ]
    },
    {
      "cell_type": "code",
      "metadata": {
        "id": "KTeggWLAfE47",
        "colab": {
          "base_uri": "https://localhost:8080/"
        },
        "outputId": "39c2b6e3-cd69-485d-86de-bd700ec42418"
      },
      "source": [
        "def is_leap(year):\n",
        "\n",
        "    if(year % 4 == 0):\n",
        "      print('True')\n",
        "    elif(year % 100 == 0):\n",
        "      print('False')\n",
        "    elif(year % 400 == 0):\n",
        "      print('True')\n",
        "    \n",
        "year = int(input())\n",
        "print(is_leap(year))"
      ],
      "execution_count": null,
      "outputs": [
        {
          "output_type": "stream",
          "name": "stdout",
          "text": [
            "356\n",
            "True\n",
            "None\n"
          ]
        }
      ]
    },
    {
      "cell_type": "code",
      "metadata": {
        "colab": {
          "base_uri": "https://localhost:8080/"
        },
        "id": "ZcGGkE1efMFM",
        "outputId": "74d7cd56-a733-4eee-90df-a15ea6da262a"
      },
      "source": [
        "n= int(input(\"integer:\"))\n",
        "if(n%2!=0):\n",
        "  print('weird')\n",
        "elif(n>=2 and n<=5):\n",
        "  print('not weird')\n",
        "elif(n>=6 and n<=20):\n",
        "  print('weird')\n",
        "else:\n",
        "  print('not weird')\n"
      ],
      "execution_count": null,
      "outputs": [
        {
          "output_type": "stream",
          "name": "stdout",
          "text": [
            "integer7\n",
            "weird\n"
          ]
        }
      ]
    },
    {
      "cell_type": "code",
      "metadata": {
        "id": "3HONlS7oO9Hj"
      },
      "source": [
        "def fashionably_late():\n",
        " def arrivals():\n",
        "  def guest_name():\n",
        "   arrivals=['Hardik','Rahul','Virat','Rishabh','Mahi','Rohit','Rahane']\n",
        "   length=len(arrivals)\n",
        "   print('length')\n",
        "   halflength=('(length-1)/2')\n",
        "   guest_position=arrivals.index('guest_name')\n",
        "   if(guest_position<=halflength):\n",
        "    print('guest_name','not fashionably_late')\n",
        "   else:\n",
        "    print('guest_name','fashionably_late')"
      ],
      "execution_count": null,
      "outputs": []
    },
    {
      "cell_type": "code",
      "metadata": {
        "id": "6LUlv_V37xwD"
      },
      "source": [
        ""
      ],
      "execution_count": null,
      "outputs": []
    },
    {
      "cell_type": "code",
      "metadata": {
        "colab": {
          "base_uri": "https://localhost:8080/"
        },
        "id": "lQrmidlwBIka",
        "outputId": "45e8f975-0d98-4b61-eca6-94014d0c2fcb"
      },
      "source": [
        "\n",
        "BP=float(input(\"basic pay:\"))\n",
        "DA=0.4*BP\n",
        "HRA=0.2*BP\n",
        "GP=BP+DA+HRA\n",
        "print('gross pay:',GP)"
      ],
      "execution_count": null,
      "outputs": [
        {
          "output_type": "stream",
          "name": "stdout",
          "text": [
            "basic pay:10\n",
            "gross pay: 16.0\n"
          ]
        }
      ]
    }
  ]
}