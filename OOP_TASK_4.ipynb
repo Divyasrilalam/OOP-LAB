{
  "nbformat": 4,
  "nbformat_minor": 0,
  "metadata": {
    "colab": {
      "name": "OOP TASK -4",
      "provenance": [],
      "collapsed_sections": []
    },
    "kernelspec": {
      "name": "python3",
      "display_name": "Python 3"
    },
    "language_info": {
      "name": "python"
    }
  },
  "cells": [
    {
      "cell_type": "code",
      "metadata": {
        "colab": {
          "base_uri": "https://localhost:8080/"
        },
        "id": "1N_MmVOAyaJr",
        "outputId": "00bc8b92-824d-4d39-833e-e223347b86e0"
      },
      "source": [
        "class rectangle:\n",
        "  length=5\n",
        "  breadth=4\n",
        "\n",
        "  def result(self):\n",
        "    self.a_of_r=self.length*self.breadth\n",
        "    print('area:',self.a_of_r)\n",
        " \n",
        "r=rectangle()\n",
        "r.result()"
      ],
      "execution_count": 7,
      "outputs": [
        {
          "output_type": "stream",
          "name": "stdout",
          "text": [
            "area: 20\n"
          ]
        }
      ]
    },
    {
      "cell_type": "code",
      "metadata": {
        "colab": {
          "base_uri": "https://localhost:8080/"
        },
        "id": "3s4tCm_Wv_6T",
        "outputId": "4599308e-4cef-418d-e6ea-9466181179a5"
      },
      "source": [
        "class rectangle():\n",
        "  def __init__(self,length,breadth):\n",
        "    self.length=length\n",
        "    self.breadth=breadth\n",
        "  \n",
        "  def area(self):\n",
        "    return self.length*self.breadth\n",
        "  \n",
        "r=rectangle(5,4)\n",
        "r.area()\n",
        "\n"
      ],
      "execution_count": 5,
      "outputs": [
        {
          "output_type": "execute_result",
          "data": {
            "text/plain": [
              "20"
            ]
          },
          "metadata": {},
          "execution_count": 5
        }
      ]
    },
    {
      "cell_type": "code",
      "metadata": {
        "colab": {
          "base_uri": "https://localhost:8080/"
        },
        "id": "5tVURxurS_Vn",
        "outputId": "47f952bd-59ac-42fd-b8ee-1181f6473657"
      },
      "source": [
        "class node():\n",
        "\t    def __init__(self):\n",
        "\t        self.items=[]\n",
        "\n",
        "class stack(node):\n",
        "      \n",
        "\t    def isempty(self):\n",
        "\t        return self.items==[]\n",
        "\t\n",
        "\t    def push(self,item):\n",
        "\t        self.items.insert(0,item)\n",
        "         \n",
        "      def itemslist(self):\n",
        "          return self.items\n",
        "         \n",
        "\t    def size(self):\n",
        "\t        return len(self.items)\n",
        "                  \n",
        "\t    def pop(self):\n",
        "\t        return self.items.pop(0)\n",
        "\t\n",
        "\t    def peek(self):\n",
        "\t        return self.items[0]\n",
        "\t\n",
        "\t    \t\n",
        "s = node()\n",
        "s = stack()\n",
        "s.push('hello')\n",
        "s.push('hi')\n",
        "s.push('how')\n",
        "s.push('who')\n",
        "print(s.itemslist())\n",
        "print(s.isempty())\n",
        "print(s.size())\n",
        "print(s.pop())\n",
        "print(s.peek())"
      ],
      "execution_count": 41,
      "outputs": [
        {
          "output_type": "stream",
          "name": "stdout",
          "text": [
            "False\n",
            "4\n",
            "who\n",
            "how\n"
          ]
        }
      ]
    },
    {
      "cell_type": "code",
      "metadata": {
        "colab": {
          "base_uri": "https://localhost:8080/"
        },
        "id": "46PRvSnIWQ_8",
        "outputId": "0d729b6c-9909-4ae1-89a1-4a232273ac76"
      },
      "source": [
        "class queue:\n",
        "\t  def __init__(self):\n",
        "\t      self.items=[]\n",
        "\t\n",
        "\t  def isempty(self):\n",
        "\t      return self.items==[]\n",
        "\t\n",
        "\t  def enqueue(self,item):\n",
        "\t      self.items.insert(0,item)\n",
        "       \n",
        "    def size(self):\n",
        "\t      return len(self.items)\n",
        "\t\n",
        "\t  def dequeue(self):\n",
        "\t      return self.items.pop()\n",
        "         \t\n",
        "q=queue()\n",
        "print(q.isempty())\t\n",
        "q.enqueue('cat')\n",
        "q.enqueue('cow')\n",
        "q.enqueue('crow')\n",
        "q.enqueue('camel')\n",
        "print(q.size())\n",
        "print(q.dequeue())"
      ],
      "execution_count": 25,
      "outputs": [
        {
          "output_type": "stream",
          "name": "stdout",
          "text": [
            "True\n",
            "4\n",
            "cat\n"
          ]
        }
      ]
    }
  ]
}