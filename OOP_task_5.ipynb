{
  "nbformat": 4,
  "nbformat_minor": 0,
  "metadata": {
    "colab": {
      "name": "OOP task - 5 ",
      "provenance": [],
      "authorship_tag": "ABX9TyPO3tJBpjQMD1LSzTlO+/zB",
      "include_colab_link": true
    },
    "kernelspec": {
      "name": "python3",
      "display_name": "Python 3"
    },
    "language_info": {
      "name": "python"
    }
  },
  "cells": [
    {
      "cell_type": "markdown",
      "metadata": {
        "id": "view-in-github",
        "colab_type": "text"
      },
      "source": [
        "<a href=\"https://colab.research.google.com/github/Divyasrilalam/OOP-LAB/blob/main/OOP_task_5.ipynb\" target=\"_parent\"><img src=\"https://colab.research.google.com/assets/colab-badge.svg\" alt=\"Open In Colab\"/></a>"
      ]
    },
    {
      "cell_type": "code",
      "metadata": {
        "colab": {
          "base_uri": "https://localhost:8080/"
        },
        "id": "s_vhCtOn8vB6",
        "outputId": "4dbbbdf5-e614-4547-bf12-044871452c8a"
      },
      "source": [
        "class Shape:\n",
        "    def __init__(self, shape):\n",
        "        self.shape = shape\n",
        "\n",
        "    def area(self):\n",
        "        pass\n",
        "\n",
        "class Circle(Shape):\n",
        "    def __init__(self, radius):\n",
        "        super().__init__(\"Circle\")\n",
        "        self.radius = radius\n",
        "\n",
        "    def area(self):\n",
        "        return 3.14*self.radius**2\n",
        "    \n",
        "class Square(Shape):\n",
        "    def __init__(self, side):\n",
        "        super().__init__(\"Square\")\n",
        "        self.side = side\n",
        "\n",
        "    def area(self):\n",
        "        return self.side**2\n",
        "\n",
        "class Rectangle(Shape):\n",
        "    def __init__(self, length, breadth):\n",
        "        super().__init__(\"Circle\")\n",
        "        self.length = length\n",
        "        self.breadth = breadth\n",
        "\n",
        "    def area(self):\n",
        "        return self.length*self.breadth\n",
        "\n",
        "C = Circle(6)\n",
        "S = Square(5)\n",
        "R = Rectangle(6,4)\n",
        "print(C.area())\n",
        "print(S.area())\n",
        "print(R.area())"
      ],
      "execution_count": null,
      "outputs": [
        {
          "output_type": "stream",
          "name": "stdout",
          "text": [
            "113.04\n",
            "25\n",
            "24\n"
          ]
        }
      ]
    },
    {
      "cell_type": "code",
      "metadata": {
        "id": "bnsDfVRrLBJI"
      },
      "source": [
        "class Car:\n",
        "  def __init__(self,model_number):\n",
        "    self.model_number=model_number\n",
        "\n",
        "  def number(self):\n",
        "    print('Number:',self.model_number)\n",
        "\n",
        "C1=Car('6C34BGF3953H583')\n",
        "C2=Car('4F834VBE848J345')\n",
        "C1.number()\n",
        "C2.number()\n",
        "def swap(self):\n",
        "  temp=C1.number()\n",
        "  C1number()=C2number()\n",
        "  C2number()=temp\n",
        "  print(C1.number)\n",
        "  print(C2.number)\n",
        "\n"
      ],
      "execution_count": null,
      "outputs": []
    },
    {
      "cell_type": "code",
      "metadata": {
        "colab": {
          "base_uri": "https://localhost:8080/"
        },
        "id": "WhejWI7GjNWY",
        "outputId": "4908c50d-897e-4f7e-e04e-b15356cc0850"
      },
      "source": [
        "class car:\n",
        "  def __init__(self,model_number):\n",
        "    self.model_number=model_number\n",
        "\n",
        "C1=car('6C34BGF3953H583')\n",
        "C2=car('4F834VBE848J345')\n",
        "print(C1.model_number)\n",
        "print(C2.model_number)\n",
        "def numswap():\n",
        "  temp=C1.model_number\n",
        "  C1.model_number=C2.model_number\n",
        "  C2.model_number=temp\n",
        "  print(\"Model number of C1:\",C1.model_number)\n",
        "  print(\"Model number of C2:\",C2.model_number)\n",
        "numswap()"
      ],
      "execution_count": 33,
      "outputs": [
        {
          "output_type": "stream",
          "name": "stdout",
          "text": [
            "6C34BGF3953H583\n",
            "4F834VBE848J345\n",
            "Model number of C1: 4F834VBE848J345\n",
            "Model number of C2: 6C34BGF3953H583\n"
          ]
        }
      ]
    },
    {
      "cell_type": "code",
      "metadata": {
        "colab": {
          "base_uri": "https://localhost:8080/"
        },
        "id": "KfP8Q_dPjvGz",
        "outputId": "7cbae8ae-947d-41bd-8c7d-971be871bd0c"
      },
      "source": [
        "class Travel:\n",
        "  def __init__(self,number_of_passengers):\n",
        "    self.__number_of_passengers=number_of_passengers\n",
        "  @property\n",
        "  def number_of_passengers(self):\n",
        "    return self.__number_of_passengers\n",
        "\n",
        "  def distance(self):\n",
        "    pass\n",
        "\n",
        "  def transportation_mode(self):\n",
        "    pass\n",
        "\n",
        "class train(Travel):\n",
        "  def cost_of_transport(self):\n",
        "    print(self.number_of_passengers*60)\n",
        "\n",
        "class bus(Travel):\n",
        "  def cost_of_transport(self):\n",
        "    print(self.number_of_passengers*100)\n",
        "\n",
        "T=train(50)\n",
        "T.cost_of_transport()\n",
        "\n",
        "B=bus(50)\n",
        "B.cost_of_transport()"
      ],
      "execution_count": 38,
      "outputs": [
        {
          "output_type": "stream",
          "name": "stdout",
          "text": [
            "3000\n",
            "5000\n"
          ]
        }
      ]
    }
  ]
}