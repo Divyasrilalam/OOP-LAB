{
  "nbformat": 4,
  "nbformat_minor": 0,
  "metadata": {
    "colab": {
      "name": "OOP task - 5 ",
      "provenance": [],
      "authorship_tag": "ABX9TyPVvS9xloK8pP6aI+fM/Nk1",
      "include_colab_link": true
    },
    "kernelspec": {
      "name": "python3",
      "display_name": "Python 3"
    },
    "language_info": {
      "name": "python"
    }
  },
  "cells": [
    {
      "cell_type": "markdown",
      "metadata": {
        "id": "view-in-github",
        "colab_type": "text"
      },
      "source": [
        "<a href=\"https://colab.research.google.com/github/Divyasrilalam/OOP-LAB/blob/main/OOP_task_5.ipynb\" target=\"_parent\"><img src=\"https://colab.research.google.com/assets/colab-badge.svg\" alt=\"Open In Colab\"/></a>"
      ]
    },
    {
      "cell_type": "code",
      "metadata": {
        "colab": {
          "base_uri": "https://localhost:8080/"
        },
        "id": "s_vhCtOn8vB6",
        "outputId": "4dbbbdf5-e614-4547-bf12-044871452c8a"
      },
      "source": [
        "class Shape:\n",
        "    def __init__(self, shape):\n",
        "        self.shape = shape\n",
        "\n",
        "    def area(self):\n",
        "        pass\n",
        "\n",
        "class Circle(Shape):\n",
        "    def __init__(self, radius):\n",
        "        super().__init__(\"Circle\")\n",
        "        self.radius = radius\n",
        "\n",
        "    def area(self):\n",
        "        return 3.14*self.radius**2\n",
        "    \n",
        "class Square(Shape):\n",
        "    def __init__(self, side):\n",
        "        super().__init__(\"Square\")\n",
        "        self.side = side\n",
        "\n",
        "    def area(self):\n",
        "        return self.side**2\n",
        "\n",
        "class Rectangle(Shape):\n",
        "    def __init__(self, length, breadth):\n",
        "        super().__init__(\"Circle\")\n",
        "        self.length = length\n",
        "        self.breadth = breadth\n",
        "\n",
        "    def area(self):\n",
        "        return self.length*self.breadth\n",
        "\n",
        "C = Circle(6)\n",
        "S = Square(5)\n",
        "R = Rectangle(6,4)\n",
        "print(C.area())\n",
        "print(S.area())\n",
        "print(R.area())"
      ],
      "execution_count": 17,
      "outputs": [
        {
          "output_type": "stream",
          "name": "stdout",
          "text": [
            "113.04\n",
            "25\n",
            "24\n"
          ]
        }
      ]
    },
    {
      "cell_type": "code",
      "metadata": {
        "id": "bnsDfVRrLBJI"
      },
      "source": [
        "class Car:\n",
        "  def __init__(self,model_number):\n",
        "    self.model_number=model_number\n",
        "\n",
        "  def number(self):\n",
        "    print('Number:',self.model_number)\n",
        "\n",
        "C1=Car('6C34BGF3953H583')\n",
        "C2=Car('4F834VBE848J345')\n",
        "C1.number()\n",
        "C2.number()\n",
        "def swap(self):\n",
        "  temp=C1.number()\n",
        "  C1number()=C2number()\n",
        "  C2number()=temp\n",
        "  print(C1.number)\n",
        "  print(C2.number)\n",
        "\n"
      ],
      "execution_count": null,
      "outputs": []
    },
    {
      "cell_type": "code",
      "metadata": {
        "id": "0Zqo2gYLUPTD"
      },
      "source": [
        "class Travel():\n",
        "  __number_of_passengers='5'\n",
        "  distance_travelled='200'\n",
        "  def __init__(self):\n",
        "    self.__number_of_passengers='5'\n",
        "    self.distance_travelled='200'\n",
        "\n",
        "  def details(self):\n",
        "    print(self.number_of_passengers)\n",
        "    print(self.distance_travelled)\n",
        "\n",
        "class train(Travel):\n",
        "  def __init__(self,cost_t):\n",
        "    super().__init__('Travel')\n",
        "    self.cost_t='60'\n",
        "\n",
        "  def cost_of_trip(self):\n",
        "    return self.cost_t*self.number_of_passenger\n",
        "  \n",
        "class bus(Travel):\n",
        "  def __init__(self,cost_b):\n",
        "    super().__init__('Travel')\n",
        "    self.cost_b='100'\n",
        "\n",
        "  def cost_of_trip(self):\n",
        "    return self.cost_b*self.number_of_passenger\n",
        "\n",
        "T=train()\n",
        "print(T.cost_of_trip())\n",
        "B=BUS()\n",
        "print(B.cost_of_trip()) "
      ],
      "execution_count": null,
      "outputs": []
    }
  ]
}